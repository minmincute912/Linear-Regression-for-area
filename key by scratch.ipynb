{
 "cells": [
  {
   "cell_type": "code",
   "execution_count": 1,
   "metadata": {},
   "outputs": [],
   "source": [
    "import pandas as pd\n",
    "import numpy as np\n",
    "import matplotlib.pyplot as plt\n",
    "# import torch\n",
    "from sklearn.preprocessing import MinMaxScaler"
   ]
  },
  {
   "cell_type": "code",
   "execution_count": 2,
   "metadata": {},
   "outputs": [],
   "source": [
    "linear_data = pd.read_csv('data_linear.csv')"
   ]
  },
  {
   "cell_type": "code",
   "execution_count": 3,
   "metadata": {},
   "outputs": [],
   "source": [
    "# .iloc <=> Extract Data from DataFrame to Series\n",
    "# values <=> Convert data from Series to 1D Numpy array\n",
    "# reshape(-1,1) <=> Convert 1D Numpy Array to 2D numpy array, 1: number of column, -1: number of row (automatic calculate from number of elements)\n",
    "X_linear = linear_data.iloc[:,0].values.reshape(-1,1)\n",
    "y_linear = linear_data.iloc[:,1].values.reshape(-1,1)"
   ]
  },
  {
   "cell_type": "code",
   "execution_count": 4,
   "metadata": {},
   "outputs": [],
   "source": [
    "# Normalize Data\n",
    "X_linear=MinMaxScaler().fit_transform(X_linear)\n",
    "y_linear=MinMaxScaler().fit_transform(y_linear)"
   ]
  },
  {
   "cell_type": "code",
   "execution_count": 5,
   "metadata": {},
   "outputs": [
    {
     "data": {
      "text/plain": [
       "Text(0, 0.5, 'giá/100')"
      ]
     },
     "execution_count": 5,
     "metadata": {},
     "output_type": "execute_result"
    },
    {
     "data": {
      "image/png": "[encoded data removed]",
      "text/plain": [
       "<Figure size 640x480 with 1 Axes>"
      ]
     },
     "metadata": {},
     "output_type": "display_data"
    }
   ],
   "source": [
    "#Visualize Scaled Data\n",
    "plt.scatter(X_linear, y_linear)\n",
    "plt.title('Linear Data Scaled')\n",
    "plt.xlabel('mét vuông/100')\n",
    "plt.ylabel('giá/100')"
   ]
  },
  {
   "cell_type": "code",
   "execution_count": 6,
   "metadata": {},
   "outputs": [],
   "source": [
    "#Gợi ý:\n",
    "#- Viết code tính hàm loss function\n",
    "#- Viết code tính gradient descent\n",
    "#- Viết code tính giá trị model dự đoán được\n",
    "# ....\n",
    "# Có thể tham khảo tại Assignment HW1 đã làm "
   ]
  },
  {
   "cell_type": "code",
   "execution_count": 22,
   "metadata": {},
   "outputs": [
    {
     "ename": "ValueError",
     "evalue": "shapes (30,1) and (2,1) not aligned: 1 (dim 1) != 2 (dim 0)",
     "output_type": "error",
     "traceback": [
      "\u001b[1;31m---------------------------------------------------------------------------\u001b[0m",
      "\u001b[1;31mValueError\u001b[0m                                Traceback (most recent call last)",
      "\u001b[1;32mc:\\Users\\DELL\\OneDrive - Hanoi University of Science and Technology\\Desktop\\LinearRegression\\key by scratch.ipynb Cell 7\u001b[0m line \u001b[0;36m2\n\u001b[0;32m     <a href='vscode-notebook-cell:/c%3A/Users/DELL/OneDrive%20-%20Hanoi%20University%20of%20Science%20and%20Technology/Desktop/LinearRegression/key%20by%20scratch.ipynb#W6sZmlsZQ%3D%3D?line=19'>20</a>\u001b[0m lr \u001b[39m=\u001b[39m \u001b[39m0.01\u001b[39m\n\u001b[0;32m     <a href='vscode-notebook-cell:/c%3A/Users/DELL/OneDrive%20-%20Hanoi%20University%20of%20Science%20and%20Technology/Desktop/LinearRegression/key%20by%20scratch.ipynb#W6sZmlsZQ%3D%3D?line=20'>21</a>\u001b[0m iters \u001b[39m=\u001b[39m \u001b[39m1000\u001b[39m\n\u001b[1;32m---> <a href='vscode-notebook-cell:/c%3A/Users/DELL/OneDrive%20-%20Hanoi%20University%20of%20Science%20and%20Technology/Desktop/LinearRegression/key%20by%20scratch.ipynb#W6sZmlsZQ%3D%3D?line=21'>22</a>\u001b[0m w,cost_history \u001b[39m=\u001b[39m gradient_descent(X_linear,y_linear,w,lr,iters)\n\u001b[0;32m     <a href='vscode-notebook-cell:/c%3A/Users/DELL/OneDrive%20-%20Hanoi%20University%20of%20Science%20and%20Technology/Desktop/LinearRegression/key%20by%20scratch.ipynb#W6sZmlsZQ%3D%3D?line=23'>24</a>\u001b[0m \u001b[39mprint\u001b[39m(\u001b[39m\"\u001b[39m\u001b[39mWeights: \u001b[39m\u001b[39m\"\u001b[39m,w)\n\u001b[0;32m     <a href='vscode-notebook-cell:/c%3A/Users/DELL/OneDrive%20-%20Hanoi%20University%20of%20Science%20and%20Technology/Desktop/LinearRegression/key%20by%20scratch.ipynb#W6sZmlsZQ%3D%3D?line=25'>26</a>\u001b[0m \u001b[39mdef\u001b[39;00m \u001b[39mpredict\u001b[39m(X, w):\n",
      "\u001b[1;32mc:\\Users\\DELL\\OneDrive - Hanoi University of Science and Technology\\Desktop\\LinearRegression\\key by scratch.ipynb Cell 7\u001b[0m line \u001b[0;36m1\n\u001b[0;32m      <a href='vscode-notebook-cell:/c%3A/Users/DELL/OneDrive%20-%20Hanoi%20University%20of%20Science%20and%20Technology/Desktop/LinearRegression/key%20by%20scratch.ipynb#W6sZmlsZQ%3D%3D?line=7'>8</a>\u001b[0m cost_history \u001b[39m=\u001b[39m np\u001b[39m.\u001b[39mzeros(iters)\n\u001b[0;32m     <a href='vscode-notebook-cell:/c%3A/Users/DELL/OneDrive%20-%20Hanoi%20University%20of%20Science%20and%20Technology/Desktop/LinearRegression/key%20by%20scratch.ipynb#W6sZmlsZQ%3D%3D?line=9'>10</a>\u001b[0m \u001b[39mfor\u001b[39;00m i \u001b[39min\u001b[39;00m \u001b[39mrange\u001b[39m(iters):\n\u001b[1;32m---> <a href='vscode-notebook-cell:/c%3A/Users/DELL/OneDrive%20-%20Hanoi%20University%20of%20Science%20and%20Technology/Desktop/LinearRegression/key%20by%20scratch.ipynb#W6sZmlsZQ%3D%3D?line=10'>11</a>\u001b[0m     h \u001b[39m=\u001b[39m X\u001b[39m.\u001b[39;49mdot(w)\n\u001b[0;32m     <a href='vscode-notebook-cell:/c%3A/Users/DELL/OneDrive%20-%20Hanoi%20University%20of%20Science%20and%20Technology/Desktop/LinearRegression/key%20by%20scratch.ipynb#W6sZmlsZQ%3D%3D?line=11'>12</a>\u001b[0m     gradient \u001b[39m=\u001b[39m (\u001b[39m1\u001b[39m\u001b[39m/\u001b[39mm)\u001b[39m*\u001b[39mX\u001b[39m.\u001b[39mT\u001b[39m.\u001b[39mdot(h\u001b[39m-\u001b[39my)\n\u001b[0;32m     <a href='vscode-notebook-cell:/c%3A/Users/DELL/OneDrive%20-%20Hanoi%20University%20of%20Science%20and%20Technology/Desktop/LinearRegression/key%20by%20scratch.ipynb#W6sZmlsZQ%3D%3D?line=12'>13</a>\u001b[0m     w \u001b[39m=\u001b[39m w \u001b[39m-\u001b[39m lr\u001b[39m*\u001b[39mgradient\n",
      "\u001b[1;31mValueError\u001b[0m: shapes (30,1) and (2,1) not aligned: 1 (dim 1) != 2 (dim 0)"
     ]
    }
   ],
   "source": [
    "def compute_loss(X,y, w):\n",
    "    m = len(y)\n",
    "    h = X.dot(w)\n",
    "    J = (1/(2*m))* np.sum(np.square(h-y))\n",
    "    return J\n",
    "def gradient_descent(X, y, w, lr, iters):\n",
    "    m = len(y)\n",
    "    cost_history = np.zeros(iters)\n",
    "\n",
    "    for i in range(iters):\n",
    "        h = X.dot(w)\n",
    "        gradient = (1/m)*X.T.dot(h-y)\n",
    "        w = w - lr*gradient\n",
    "        cost_history[i] = compute_loss(X,y,w)\n",
    "    return w, cost_history\n",
    "\n",
    "X = np.c_[np.ones(X_linear.shape[0]),X_linear]\n",
    "w = np.random.rand(2,1)\n",
    "\n",
    "lr = 0.01\n",
    "iters = 1000\n",
    "w,cost_history = gradient_descent(X_linear,y_linear,w,lr,iters)\n",
    "\n",
    "print(\"Weights: \",w)\n",
    "\n",
    "def predict(X, w):\n",
    "    return X.dot(w)\n",
    "\n",
    "plt.scatter(X_linear, y_linear, label = 'House price prediction')\n",
    "plt.plot(X_linear, predict(X,w), color = 'red', label = 'Linear Regression')\n",
    "plt.xlabel('Area')\n",
    "plt.ylabel('Price')\n",
    "plt.legend()\n",
    "plt.show()\n",
    "\n"
   ]
  },
  {
   "cell_type": "code",
   "execution_count": null,
   "metadata": {},
   "outputs": [],
   "source": []
  }
 ],
 "metadata": {
  "kernelspec": {
   "display_name": "Python 3",
   "language": "python",
   "name": "python3"
  },
  "language_info": {
   "codemirror_mode": {
    "name": "ipython",
    "version": 3
   },
   "file_extension": ".py",
   "mimetype": "text/x-python",
   "name": "python",
   "nbconvert_exporter": "python",
   "pygments_lexer": "ipython3",
   "version": "3.10.4"
  }
 },
 "nbformat": 4,
 "nbformat_minor": 2
}
